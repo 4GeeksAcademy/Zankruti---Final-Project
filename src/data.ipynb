{
 "cells": [
  {
   "cell_type": "code",
   "execution_count": 1,
   "metadata": {},
   "outputs": [],
   "source": [
    "import numpy as np\n",
    "import pandas as pd\n",
    "import matplotlib.pyplot as plt\n",
    "import seaborn as sns\n",
    "import os\n",
    "\n",
    "from sklearn.preprocessing import LabelEncoder\n",
    "from sklearn.model_selection import train_test_split\n",
    "from sklearn.preprocessing import StandardScaler\n",
    "from sklearn.linear_model import LinearRegression\n",
    "from xgboost import XGBRegressor\n",
    "from sklearn.ensemble import RandomForestRegressor\n",
    "\n",
    "from folium.plugins import HeatMap\n",
    "import folium\n",
    "\n",
    "from sklearn.metrics import mean_squared_error\n",
    "\n",
    "pd.set_option('display.max_columns', None)\n",
    "pd.set_option('display.max_rows', None)\n",
    "\n",
    "import warnings\n",
    "warnings.filterwarnings('ignore')"
   ]
  },
  {
   "cell_type": "code",
   "execution_count": 2,
   "metadata": {},
   "outputs": [],
   "source": [
    "import pandas as pd\n",
    "data=pd.read_csv('../merged_data.csv.zip')\n",
    "data = data.drop(data.columns[21:], axis=1) #dropped here because no data in these columns and easier to do here than in dataset\n",
    "data"
   ]
  },
  {
   "cell_type": "code",
   "execution_count": null,
   "metadata": {},
   "outputs": [],
   "source": [
    "data.shape\n"
   ]
  },
  {
   "cell_type": "code",
   "execution_count": null,
   "metadata": {},
   "outputs": [],
   "source": [
    "data.info()\n"
   ]
  },
  {
   "cell_type": "code",
   "execution_count": null,
   "metadata": {},
   "outputs": [],
   "source": [
    "data.duplicated()"
   ]
  },
  {
   "cell_type": "code",
   "execution_count": null,
   "metadata": {},
   "outputs": [],
   "source": [
    "data['YEAR_MONTH'] = pd.to_datetime(data['YEAR_MONTH'], format='%Y%M')\n",
    "pd.to_datetime(data['YEAR_MONTH'], format='%Y-%M-%d')"
   ]
  },
  {
   "cell_type": "code",
   "execution_count": null,
   "metadata": {},
   "outputs": [],
   "source": [
    "data.isnull().sum()"
   ]
  },
  {
   "cell_type": "code",
   "execution_count": null,
   "metadata": {},
   "outputs": [],
   "source": [
    "data[data.isna().any(axis=1)].head()"
   ]
  },
  {
   "cell_type": "code",
   "execution_count": null,
   "metadata": {},
   "outputs": [],
   "source": [
    "data.isnull().sum()"
   ]
  },
  {
   "cell_type": "code",
   "execution_count": null,
   "metadata": {},
   "outputs": [],
   "source": [
    "data = data.dropna()"
   ]
  },
  {
   "cell_type": "code",
   "execution_count": null,
   "metadata": {},
   "outputs": [],
   "source": [
    "# Create LSOA11 mappings for each nation\n",
    "conditions = [\n",
    "    data['LSOA11_CODE'].str.startswith('E'),\n",
    "    data['LSOA11_CODE'].str.startswith('W'),\n",
    "    data['LSOA11_CODE'].str.startswith('S')\n",
    "]\n",
    "\n",
    "values = ['England', 'Wales', 'Scotland']\n",
    "\n",
    "# Create the new column \"nation\"\n",
    "data['NATION'] = np.select(conditions, values, default='Unknown')"
   ]
  },
  {
   "cell_type": "code",
   "execution_count": null,
   "metadata": {},
   "outputs": [],
   "source": [
    "data['YEAR'] = data['YEAR_MONTH'].dt.year\n",
    "data['MONTH'] = data['YEAR_MONTH'].dt.month"
   ]
  },
  {
   "cell_type": "code",
   "execution_count": null,
   "metadata": {},
   "outputs": [],
   "source": [
    "plt.figure(figsize=(10,4))\n",
    "sns.lineplot(x='YEAR', y='ADULT_24M_COUNT', data=data, ci=False)"
   ]
  },
  {
   "cell_type": "code",
   "execution_count": null,
   "metadata": {},
   "outputs": [],
   "source": [
    "plt.figure(figsize=(10,4))\n",
    "sns.lineplot(x='YEAR', y='CHILD_12M_COUNT', data=data, ci=False)"
   ]
  },
  {
   "cell_type": "code",
   "execution_count": null,
   "metadata": {},
   "outputs": [],
   "source": [
    "top_10_providers_uda = data.groupby('PROVIDER_NAME')['UDA_DELIVERED'].sum().sort_values(ascending=False).head(10)"
   ]
  },
  {
   "cell_type": "code",
   "execution_count": null,
   "metadata": {},
   "outputs": [],
   "source": [
    "top_10_providers_uda"
   ]
  },
  {
   "cell_type": "code",
   "execution_count": null,
   "metadata": {},
   "outputs": [],
   "source": [
    "fig, ax = plt.subplots(figsize=(10,4))\n",
    "\n",
    "sns.barplot(x='PROVIDER_NAME', y='UDA_DELIVERED', data=top_10_providers_uda)\n",
    "plt.xlabel(\"Provider Name\", fontsize=10)\n",
    "plt.ylabel(\"UDA Delivered\", fontsize=10)\n",
    "plt.title(\"Provider Name vs UDA Delivered (All Time)\", fontsize=12)\n",
    "ax.get_yaxis().set_major_formatter(plt.FuncFormatter(lambda x, loc: \"{:,.0f}\".format(x)))\n",
    "plt.xticks(rotation = 45);"
   ]
  },
  {
   "cell_type": "code",
   "execution_count": null,
   "metadata": {},
   "outputs": [],
   "source": [
    "top_5_comissioners_uda = data.groupby('COMMISSIONER_NAME')['UDA_DELIVERED'].sum().sort_values(ascending=False).head(5)\n",
    "\n",
    "fig, ax = plt.subplots(figsize=(10,4))\n",
    "\n",
    "sns.barplot(x='COMMISSIONER_NAME', y='UDA_DELIVERED', data=top_5_comissioners_uda)\n",
    "plt.xlabel(\"Commissioner Name\", fontsize=10)\n",
    "plt.ylabel(\"UDA Delivered\", fontsize=10)\n",
    "plt.title(\"Commissioner Name vs UDA Delivered (All Time)\", fontsize=12)\n",
    "ax.get_yaxis().set_major_formatter(plt.FuncFormatter(lambda x, loc: \"{:,.0f}\".format(x)))\n",
    "plt.xticks(rotation = 45);"
   ]
  },
  {
   "cell_type": "code",
   "execution_count": null,
   "metadata": {},
   "outputs": [],
   "source": [
    "plt.figure(figsize=(10,4))\n",
    "sns.lineplot(x='YEAR', y='BAND_1_DELIVERED', data=data, ci=False, label='Band 1 Delivered')\n",
    "sns.lineplot(x='YEAR', y='BAND_2_DELIVERED', data=data, ci=False, label='Band 2 Delivered')\n",
    "sns.lineplot(x='YEAR', y='BAND_3_DELIVERED', data=data, ci=False, label='Band 3 Delivered')\n",
    "plt.xlabel('Year')\n",
    "plt.ylabel('No. Of Bands Delivered')\n",
    "plt.title(\"Band Treatments Delivered (2016 - 2024)\")"
   ]
  },
  {
   "cell_type": "code",
   "execution_count": null,
   "metadata": {},
   "outputs": [],
   "source": [
    "provider_vs_fin_val = data.groupby('PROVIDER_NAME')['GENERAL_DENTAL_FIN_VALUE'].sum().sort_values(ascending=False).head(10)"
   ]
  },
  {
   "cell_type": "code",
   "execution_count": null,
   "metadata": {},
   "outputs": [],
   "source": [
    "provider_vs_fin_val"
   ]
  },
  {
   "cell_type": "code",
   "execution_count": null,
   "metadata": {},
   "outputs": [],
   "source": [
    "data.head()"
   ]
  }
 ],
 "metadata": {
  "kernelspec": {
   "display_name": "Python 3",
   "language": "python",
   "name": "python3"
  },
  "language_info": {
   "codemirror_mode": {
    "name": "ipython",
    "version": 3
   },
   "file_extension": ".py",
   "mimetype": "text/x-python",
   "name": "python",
   "nbconvert_exporter": "python",
   "pygments_lexer": "ipython3",
   "version": "3.10.13"
  }
 },
 "nbformat": 4,
 "nbformat_minor": 2
}
